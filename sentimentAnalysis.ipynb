{
 "cells": [
  {
   "cell_type": "code",
   "execution_count": 1,
   "metadata": {},
   "outputs": [
    {
     "name": "stdout",
     "output_type": "stream",
     "text": [
      "                                               title  sentiment\n",
      "0  Fulton judge says Georgia law requires county ...          0\n",
      "1  How do officials call , certify a Presidential...          0\n",
      "2  Georgia Election Officials Must Certify Electi...          0\n",
      "3  Georgia new poll watcher and hand count rules ...          1\n",
      "4    Georgia voters would be silenced : Judge tel...          0\n"
     ]
    }
   ],
   "source": [
    "# Import necessary libraries\n",
    "import pandas as pd\n",
    "from textblob import TextBlob\n",
    "\n",
    "# Load the dataset\n",
    "file_path = r'D:\\Projects\\Project Seminar\\dataCollection\\data\\News_Articles.csv'\n",
    "data = pd.read_csv(file_path)\n",
    "\n",
    "# Define a function to analyze sentiment and assign scores\n",
    "def sentiment_score(title):\n",
    "    sentiment = TextBlob(title).sentiment.polarity\n",
    "    if sentiment > 0:\n",
    "        return 1  # Positive\n",
    "    elif sentiment < 0:\n",
    "        return -1  # Negative\n",
    "    else:\n",
    "        return 0  # Neutral\n",
    "\n",
    "# Apply the sentiment score function to each title\n",
    "data['sentiment'] = data['title'].apply(sentiment_score)\n",
    "\n",
    "# Save the updated dataframe with the sentiment scores to a new CSV or view first rows\n",
    "print(data[['title', 'sentiment']].head())  # To check results\n",
    "\n",
    "# Save the results back to CSV (optional)\n",
    "data.to_csv(r'D:\\Projects\\Project Seminar\\dataCollection\\data\\News_Articles_with_sentiment.csv', index=False)\n"
   ]
  }
 ],
 "metadata": {
  "kernelspec": {
   "display_name": "base",
   "language": "python",
   "name": "python3"
  },
  "language_info": {
   "codemirror_mode": {
    "name": "ipython",
    "version": 3
   },
   "file_extension": ".py",
   "mimetype": "text/x-python",
   "name": "python",
   "nbconvert_exporter": "python",
   "pygments_lexer": "ipython3",
   "version": "3.12.4"
  }
 },
 "nbformat": 4,
 "nbformat_minor": 2
}
